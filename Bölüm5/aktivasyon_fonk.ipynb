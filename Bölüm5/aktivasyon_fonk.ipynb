{
  "nbformat": 4,
  "nbformat_minor": 0,
  "metadata": {
    "colab": {
      "name": "aktivasyon_fonk.ipynb",
      "provenance": [],
      "include_colab_link": true
    },
    "kernelspec": {
      "name": "python3",
      "display_name": "Python 3"
    }
  },
  "cells": [
    {
      "cell_type": "markdown",
      "metadata": {
        "id": "view-in-github",
        "colab_type": "text"
      },
      "source": [
        "<a href=\"https://colab.research.google.com/github/mustafabozkaya/Keras_ile_Derin_Ogrenmeye_Giris/blob/master/B%C3%B6l%C3%BCm5/aktivasyon_fonk.ipynb\" target=\"_parent\"><img src=\"https://colab.research.google.com/assets/colab-badge.svg\" alt=\"Open In Colab\"/></a>"
      ]
    },
    {
      "cell_type": "code",
      "metadata": {
        "id": "J14yC3MMA_tS"
      },
      "source": [
        "# Gerekli kütüphanelerin import edilmesi\n",
        "import math\n",
        "import matplotlib.pyplot as plt\n",
        "import numpy as np\n",
        "\n",
        "# Aktivasyon fonksiyonlarının tanımlamalarının matematiksel olarak yapılması\n",
        "\n"
      ],
      "execution_count": 1,
      "outputs": []
    },
    {
      "cell_type": "code",
      "metadata": {
        "id": "2yWmT8LTTfu6",
        "outputId": "35388b21-75af-4127-ec4d-bec397663bc4",
        "colab": {
          "base_uri": "https://localhost:8080/"
        }
      },
      "source": [
        "a= math.exp(1) #The math.exp() method returns E raised to the power of x (Ex).\n",
        "a"
      ],
      "execution_count": 4,
      "outputs": [
        {
          "output_type": "execute_result",
          "data": {
            "text/plain": [
              "2.718281828459045"
            ]
          },
          "metadata": {
            "tags": []
          },
          "execution_count": 4
        }
      ]
    },
    {
      "cell_type": "code",
      "metadata": {
        "id": "tleiqRn3TaKK"
      },
      "source": [
        "def sigmoid(x):\n",
        "    a = []\n",
        "    for i in x:\n",
        "        a.append(1/(1+math.exp(-i)))\n",
        "    return a\n",
        "\n",
        "    \n",
        "def tanh(x, derivative=False):\n",
        "    if (derivative == True):\n",
        "        return (1 - (x ** 2))\n",
        "    return np.tanh(x)\n",
        "\n",
        "def re(x):\n",
        "    b = []\n",
        "    for i in x:\n",
        "        if i<0:\n",
        "            b.append(0)\n",
        "        else:\n",
        "            b.append(i)\n",
        "    return b\n",
        "\n",
        "def lr(x):\n",
        "    b = []\n",
        "    for i in x:\n",
        "        if i<0:\n",
        "            b.append(i/10)\n",
        "        else:\n",
        "            b.append(i)\n",
        "    return b\n",
        "  \n",
        "# Grafik için oluşturulacak aralıkların belirlenmesi\n",
        "\n",
        "x = np.arange(-3., 3., 0.1)\n",
        "sig = sigmoid(x)\n",
        "tanh = tanh(x)\n",
        "relu = re(x)\n",
        "leaky_relu = lr(x)\n",
        "swish = sig*x\n",
        "\n",
        "#Fonksiyonların ekrana çizilmesi ve gösterilmesi\n",
        "line_1, = plt.plot(x,sig, label='Sigmoid')\n",
        "line_2, = plt.plot(x,tanh, label='Tanh')\n",
        "line_3, = plt.plot(x,relu, label='ReLU')\n",
        "line_4, = plt.plot(x,leaky_relu, label='Leaky ReLU')\n",
        "line_5, = plt.plot(x,swish, label='Swish')\n",
        "plt.legend(handles=[line_1, line_2, line_3, line_4, line_5])\n",
        "plt.axhline(y=0, color='k')\n",
        "plt.axvline(x=0, color='k')\n",
        "plt.show()"
      ],
      "execution_count": null,
      "outputs": []
    }
  ]
}